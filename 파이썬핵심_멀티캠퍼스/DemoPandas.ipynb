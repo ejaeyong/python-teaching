{
 "cells": [
  {
   "cell_type": "code",
   "execution_count": null,
   "metadata": {},
   "outputs": [],
   "source": [
    "%pylab\n",
    "%matplotlib inline \n",
    "import pandas\n",
    "\n",
    "plot(arange(10))\n",
    "#Shift + Enter"
   ]
  },
  {
   "cell_type": "markdown",
   "metadata": {},
   "source": []
  },
  {
   "cell_type": "code",
   "execution_count": null,
   "metadata": {},
   "outputs": [],
   "source": [
    "from pandas import Series, DataFrame\n",
    "import pandas as pd \n",
    "\n",
    "#멀티캠퍼스 주가\n",
    "multicampus = Series([100,200,300,400,500])\n",
    "type(multicampus)"
   ]
  },
  {
   "cell_type": "code",
   "execution_count": null,
   "metadata": {},
   "outputs": [],
   "source": [
    "multicampus = Series([100,200,300,400,500], \n",
    "    index=[\"21-11-10\",\"21-11-11\",\"21-11-12\",\"21-11-13\",\"21-11-14\"])\n",
    "\n",
    "multicampus"
   ]
  },
  {
   "cell_type": "code",
   "execution_count": null,
   "metadata": {},
   "outputs": [],
   "source": [
    "#2차원 행열 데이터\n",
    "data = {\"foreigner\":[1,2,3,4,5,6], \n",
    "        \"sratio\":[10,20,30,40,50,60],\n",
    "        \"org\":[100,200,300,400,500,600],\n",
    "        \"sprice\":[1,2,3,4,5,6],\n",
    "        \"private\":[10,20,30,40,50,60]\n",
    "        }\n",
    "type(data)"
   ]
  },
  {
   "cell_type": "code",
   "execution_count": null,
   "metadata": {},
   "outputs": [],
   "source": [
    "#2차원 행열 데이터\n",
    "data = {\"foreigner\":[1,2,3,4,5,6], \n",
    "        \"sratio\":[10,20,30,40,50,60],\n",
    "        \"org\":[100,200,300,400,500,600],\n",
    "        \"sprice\":[1,2,3,4,5,6],\n",
    "        \"private\":[10,20,30,40,50,60]\n",
    "        }\n",
    "frame1 = DataFrame(data,\n",
    "    columns=[\"private\", \"org\", \"foreigner\", \"sratio\", \"sprice\"])\n",
    "type(frame1)"
   ]
  },
  {
   "cell_type": "code",
   "execution_count": null,
   "metadata": {},
   "outputs": [],
   "source": [
    "#2차원 행열 데이터\n",
    "data = {\"foreigner\":[1,2,3,4,5,6], \n",
    "        \"sratio\":[10,20,30,40,50,60],\n",
    "        \"org\":[100,200,300,400,500,600],\n",
    "        \"sprice\":[1,2,3,4,5,6],\n",
    "        \"private\":[10,20,30,40,50,60]\n",
    "        }\n",
    "frame2 = DataFrame(data,\n",
    "    columns=[\"private\", \"org\", \"foreigner\", \"sratio\", \"sprice\"],\n",
    "    index=[\"21-11-10\",\"21-11-11\",\"21-11-12\",\"21-11-13\",\"21-11-14\",\"21-11-15\"])\n",
    "frame2"
   ]
  },
  {
   "cell_type": "code",
   "execution_count": null,
   "metadata": {},
   "outputs": [],
   "source": [
    "frame2[\"org\"]"
   ]
  },
  {
   "cell_type": "code",
   "execution_count": null,
   "metadata": {},
   "outputs": [],
   "source": [
    "frame2.loc[\"21-11-11\"]"
   ]
  },
  {
   "cell_type": "code",
   "execution_count": null,
   "metadata": {},
   "outputs": [],
   "source": [
    "frame2.T"
   ]
  },
  {
   "cell_type": "code",
   "execution_count": null,
   "metadata": {},
   "outputs": [],
   "source": [
    "!type D:\\교육\\교육Git\\파이썬핵심_멀티캠퍼스\\ex1.csv"
   ]
  },
  {
   "cell_type": "code",
   "execution_count": null,
   "metadata": {},
   "outputs": [],
   "source": [
    "df1 = pd.read_csv(r\"D:\\교육\\교육Git\\파이썬핵심_멀티캠퍼스\\ex1.csv\")\n",
    "df1"
   ]
  },
  {
   "cell_type": "code",
   "execution_count": null,
   "metadata": {},
   "outputs": [],
   "source": [
    "!type D:\\교육\\교육Git\\파이썬핵심_멀티캠퍼스\\ex2.csv"
   ]
  },
  {
   "cell_type": "code",
   "execution_count": null,
   "metadata": {},
   "outputs": [],
   "source": [
    "df2 = pd.read_csv(r\"D:\\교육\\교육Git\\파이썬핵심_멀티캠퍼스\\ex2.csv\",\n",
    "    names=[\"id\", \"name\",\"price\",\"desc\"])\n",
    "df2"
   ]
  },
  {
   "cell_type": "code",
   "execution_count": null,
   "metadata": {},
   "outputs": [],
   "source": [
    "!type D:\\교육\\교육Git\\파이썬핵심_멀티캠퍼스\\ex3.txt"
   ]
  },
  {
   "cell_type": "code",
   "execution_count": null,
   "metadata": {},
   "outputs": [],
   "source": [
    "# 정규표현식은 re 처럼 쓸 수 있으나 import 를 쓰지 않으면 함수는 불가능\n",
    "df3 = pd.read_table(r\"D:\\교육\\교육Git\\파이썬핵심_멀티캠퍼스\\ex3.txt\", sep='\\s+')\n",
    "df3"
   ]
  },
  {
   "cell_type": "code",
   "execution_count": null,
   "metadata": {},
   "outputs": [],
   "source": [
    "# %pylab\n",
    "# %matplotlib inline\n",
    "\n",
    "#엑셀 파일 읽기\n",
    "dfExcel = pd.read_excel(r\"D:\\교육\\교육Git\\파이썬핵심_멀티캠퍼스\\Demo.xlsx\", \"Sheet1\")\n",
    "# dfExcel\n",
    "# 차트 그리기\n",
    "# 비어 있는 그림판\n",
    "fig = plt.figure()\n",
    "# 그림판에 차트 추가(1행, 1열, 1차트)\n",
    "ax = fig.add_subplot(1,1,1)\n",
    "# 수직 막대 그래프로 나이컬럼 7개 그룹으로 묶어서 그리기\n",
    "ax.hist(dfExcel[\"나이\"], bins=7)"
   ]
  },
  {
   "cell_type": "code",
   "execution_count": null,
   "metadata": {},
   "outputs": [],
   "source": [
    "#2개의 데이터를 비교해서 병합하는 경우(조각 데이터 )\n",
    "df1 = DataFrame({\"key\":[\"b\",\"b\",\"a\",\"c\",\"a\",\"a\",\"b\"],\n",
    "                 \"data1\":range(7)\n",
    "                })\n",
    "\n",
    "#df1 \n",
    "\n",
    "df2 = DataFrame({\"key\":[\"a\",\"b\",\"d\"],\n",
    "                 \"data2\":range(3)\n",
    "                })\n",
    "\n",
    "df2 "
   ]
  },
  {
   "cell_type": "code",
   "execution_count": null,
   "metadata": {},
   "outputs": [],
   "source": [
    "#병합하기\n",
    "pd.merge(df1, df2, on=\"key\")"
   ]
  },
  {
   "cell_type": "code",
   "execution_count": null,
   "metadata": {},
   "outputs": [],
   "source": [
    "#2개의 데이터를 비교해서 병합하는 경우(조각 데이터 )\n",
    "df3 = DataFrame({\"lkey\":[\"b\",\"b\",\"a\",\"c\",\"a\",\"a\",\"b\"],\n",
    "                 \"data1\":range(7)\n",
    "                })\n",
    "\n",
    "#df1 \n",
    "\n",
    "df4 = DataFrame({\"rkey\":[\"a\",\"b\",\"d\"],\n",
    "                 \"data2\":range(3)\n",
    "                })\n",
    "\n",
    "df4 "
   ]
  },
  {
   "cell_type": "code",
   "execution_count": null,
   "metadata": {},
   "outputs": [],
   "source": [
    "pd.merge(df3, df4, left_on=\"lkey\", right_on=\"rkey\")"
   ]
  },
  {
   "cell_type": "code",
   "execution_count": null,
   "metadata": {},
   "outputs": [],
   "source": [
    "s1 = Series([1,2])\n",
    "s2 = Series([100,200,300])\n",
    "pd.concat([s1,s2])"
   ]
  },
  {
   "cell_type": "code",
   "execution_count": null,
   "metadata": {},
   "outputs": [],
   "source": [
    "#차트\n",
    "import numpy as np\n",
    "\n",
    "t= np.arange(0,12,0.01)\n",
    "y= np.sin(t)\n",
    "plt.figure(figsize=(10,6))\n",
    "plt.plot(t,y)\n",
    "#꾸미기\n",
    "plt.grid()\n",
    "plt.ylabel(\"sine wave\")\n",
    "plt.xlabel(\"time\")\n",
    "plt.title(\"데모차트\")"
   ]
  },
  {
   "cell_type": "code",
   "execution_count": null,
   "metadata": {},
   "outputs": [],
   "source": []
  }
 ],
 "metadata": {
  "interpreter": {
   "hash": "8b96398b062f62469a68c1bc469177be3490231bb531327e66b10e93d2aa0fda"
  },
  "kernelspec": {
   "display_name": "Python 3.7.9 64-bit",
   "language": "python",
   "name": "python3"
  },
  "language_info": {
   "codemirror_mode": {
    "name": "ipython",
    "version": 3
   },
   "file_extension": ".py",
   "mimetype": "text/x-python",
   "name": "python",
   "nbconvert_exporter": "python",
   "pygments_lexer": "ipython3",
   "version": "3.7.9"
  },
  "orig_nbformat": 4
 },
 "nbformat": 4,
 "nbformat_minor": 2
}
