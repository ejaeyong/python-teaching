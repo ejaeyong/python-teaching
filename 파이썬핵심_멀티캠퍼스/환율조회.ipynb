{
 "cells": [
  {
   "cell_type": "code",
   "execution_count": 72,
   "metadata": {},
   "outputs": [],
   "source": [
    "# 환율조회.\n",
    "#웹서버에 요청 \n",
    "import requests\n",
    "# import urllib.request\n",
    "#크롤링 \n",
    "from bs4 import BeautifulSoup"
   ]
  },
  {
   "cell_type": "code",
   "execution_count": 170,
   "metadata": {},
   "outputs": [
    {
     "name": "stdout",
     "output_type": "stream",
     "text": [
      "[]\n"
     ]
    }
   ],
   "source": [
    "# <img src=\"/images/flag/USA.png\" class=\"flag\" alt=\"\">\n",
    "#파일로 저장(파일이 없으면 생성, 있으면 맨뒤로 가서 첨부)\n",
    "# f = open(r\"D:\\교육\\교육Git\\파이썬핵심_멀티캠퍼스\\환율정보.txt\", \"rw\", encoding=\"utf-8\")\n",
    "\n",
    "# url = \"https://bank.shinhan.com/index.jsp#020501010100\"\n",
    "# url = 'https://finance.naver.com/marketindex/'\n",
    "url = 'https://finance.daum.net/exchanges'\n",
    "#페이지 처리 \n",
    "# data = urllib.request.urlopen(url)\n",
    "html = requests.get(url)\n",
    "soup = BeautifulSoup(html.text, 'html.parser')\n",
    "nation = soup.findAll('a', {'href' : \"/exchanges/FRX.KRWUSD\"})\n",
    "# soup = BeautifulSoup(data, 'html.parser', from_encoding='euc-kr')\n",
    "\n",
    "# soup = BeautifulSoup(data, 'html.parser', from_encoding='euc-kr')\n",
    "# soup = soup.find('a', onclick=\"parent.clickcr(this, 'exl.exlist', 'FX_USDKRW', '1', event);\")\n",
    "#soup = soup.find_all('img')\n",
    "# soup = soup.find_all('span')\n",
    "\n",
    "\n",
    "#    #페이지 처리 \n",
    "#     data = urllib.request.urlopen(url)\n",
    "#     #검색이 용이한 객체 \n",
    "#     soup = BeautifulSoup(data, \"html.parser\")\n",
    "#     cartoons = soup.find_all(\"td\", class_=\"title\")\n",
    "\n",
    "#     for item in cartoons:\n",
    "#         title = item.find(\"a\").text \n",
    "#         print( title.strip() )\n",
    "#         f.write(title.strip() + \"\\n\")\n",
    "\n",
    "\n",
    "# soup = soup.find('img', alt='상승')\n",
    "# type(soup)\n",
    "# soup.find_all(\"td\", )\n",
    "print(nation)\n",
    "\n",
    "# req = urllib.request.Request(data, \\\n",
    "#                                     headers = hdr)\n",
    "#         data = urllib.request.urlopen(req).read()\n",
    "#         #국내 커뮤니티는 대부분 utf-8 \n",
    "#         page = data.decode('utf-8', 'ignore')\n",
    "#         soup = BeautifulSoup(page, 'html.parser')\n",
    "\n",
    "#검색이 용이한 객체 \n",
    "# soup = BeautifulSoup(data, \"html.parser\")\n",
    "# attrs = {'id': 'grd_list_1_cell_0_1'}\n",
    "# soup.find_all('td', attrs=attrs)\n",
    "# soup\n",
    "#nations = soup.find(\"td\", class_=\"col_id\")"
   ]
  },
  {
   "cell_type": "markdown",
   "metadata": {},
   "source": []
  },
  {
   "cell_type": "code",
   "execution_count": 171,
   "metadata": {},
   "outputs": [
    {
     "name": "stdout",
     "output_type": "stream",
     "text": [
      "미국 USD\t1,190.00\n",
      "유럽연합 EUR\t1,344.88\n",
      "일본 JPY (100엔)\t1,044.55\n",
      "중국 CNY\t186.19\n",
      "홍콩 HKD\t152.72\n",
      "대만 TWD\t42.77\n",
      "영국 GBP\t1,598.65\n",
      "오만 OMR\t3,091.07\n",
      "캐나다 CAD\t940.97\n",
      "스위스 CHF\t1,284.54\n",
      "스웨덴 SEK\t133.13\n",
      "호주 AUD\t861.98\n",
      "뉴질랜드 NZD\t833.71\n",
      "체코 CZK\t52.98\n",
      "칠레 CLP\t1.43\n",
      "터키 TRY\t107.00\n",
      "몽골 MNT\t0.42\n",
      "이스라엘 ILS\t384.58\n",
      "덴마크 DKK\t180.84\n",
      "노르웨이 NOK\t133.65\n",
      "사우디아라비아 SAR\t317.24\n",
      "쿠웨이트 KWD\t3,933.62\n",
      "바레인 BHD\t3,156.25\n",
      "아랍에미리트 AED\t323.98\n",
      "요르단 JOD\t1,678.42\n",
      "이집트 EGP\t75.80\n",
      "태국 THB\t36.34\n",
      "싱가포르 SGD\t874.20\n",
      "말레이시아 MYR\t284.45\n",
      "인도네시아 IDR 100\t8.38\n",
      "카타르 QAR\t324.87\n",
      "카자흐스탄 KZT\t2.75\n",
      "브루나이 BND\t874.20\n",
      "인도 INR\t16.03\n",
      "파키스탄 PKR\t6.79\n",
      "방글라데시 BDT\t13.88\n",
      "필리핀 PHP\t23.52\n",
      "멕시코 MXN\t57.05\n",
      "브라질 BRL\t214.10\n",
      "베트남 VND 100\t5.25\n",
      "남아프리카 공화국 ZAR\t75.71\n",
      "러시아 RUB\t16.22\n",
      "헝가리 HUF\t3.68\n",
      "폴란드 PLN\t287.01\n"
     ]
    }
   ],
   "source": [
    "import requests\n",
    "from bs4 import BeautifulSoup\n",
    "\n",
    "def return_value(address, addition):\n",
    "    res = requests.get(address +addition)\n",
    "    soup = BeautifulSoup(res.content, 'html.parser')\n",
    "\n",
    "    frame = soup.find('iframe', id=\"frame_ex1\")\n",
    "    frameaddr = address+frame['src'] #frame내의 연결된 주소 확인 \n",
    "\n",
    "    res1 = requests.get(frameaddr) # frame내의 연결된 주소를 읽어오기 \n",
    "    frame_soup = BeautifulSoup(res1.content, 'html.parser')\n",
    "    items = frame_soup.select('body > div > table > tbody > tr')\n",
    "\n",
    "\n",
    "    for item in items:\n",
    "        name = item.select('td')[0].text.replace(\"\\n\",\"\")\n",
    "        name = name.replace(\"\\t\", \"\")\n",
    "        print(name + \"\\t\" + item.select('td')[1].text)\n",
    "        \n",
    "baseaddress = 'https://finance.naver.com'\n",
    "info = '/marketindex/?tabSel=exchange#tab_section'\n",
    "return_value(baseaddress, info)"
   ]
  },
  {
   "cell_type": "code",
   "execution_count": 79,
   "metadata": {},
   "outputs": [
    {
     "ename": "AttributeError",
     "evalue": "'NoneType' object has no attribute 'get_text'",
     "output_type": "error",
     "traceback": [
      "\u001b[1;31m---------------------------------------------------------------------------\u001b[0m",
      "\u001b[1;31mAttributeError\u001b[0m                            Traceback (most recent call last)",
      "\u001b[1;32m~\\AppData\\Local\\Temp/ipykernel_15124/2143298825.py\u001b[0m in \u001b[0;36m<module>\u001b[1;34m\u001b[0m\n\u001b[0;32m      8\u001b[0m \u001b[1;31m# soup.find_all(\"td\", class_=\"title\")\u001b[0m\u001b[1;33m\u001b[0m\u001b[1;33m\u001b[0m\u001b[1;33m\u001b[0m\u001b[0m\n\u001b[0;32m      9\u001b[0m \u001b[1;33m\u001b[0m\u001b[0m\n\u001b[1;32m---> 10\u001b[1;33m \u001b[0mtitle_tag\u001b[0m\u001b[1;33m.\u001b[0m\u001b[0mget_text\u001b[0m\u001b[1;33m(\u001b[0m\u001b[1;33m)\u001b[0m\u001b[1;33m\u001b[0m\u001b[1;33m\u001b[0m\u001b[0m\n\u001b[0m\u001b[0;32m     11\u001b[0m \u001b[1;31m# soup = BeautifulSoup(data, \"html.parser\")\u001b[0m\u001b[1;33m\u001b[0m\u001b[1;33m\u001b[0m\u001b[1;33m\u001b[0m\u001b[0m\n\u001b[0;32m     12\u001b[0m \u001b[1;31m# nations = soup.find_all(\"td\", class_=\"col_id\")\u001b[0m\u001b[1;33m\u001b[0m\u001b[1;33m\u001b[0m\u001b[1;33m\u001b[0m\u001b[0m\n",
      "\u001b[1;31mAttributeError\u001b[0m: 'NoneType' object has no attribute 'get_text'"
     ]
    }
   ],
   "source": [
    "\n",
    "url = 'https://finance.naver.com/marketindex/'\n",
    "#url = 'https://bank.shinhan.com/index.jsp#020501010100'\n",
    "\n",
    "resp = requests.get(url)\n",
    "soup = BeautifulSoup(resp.text)\n",
    "title_tag = soup.select_one('FX_USDKRW')\n",
    "# soup.find_all(\"td\", attrs={'class':'sale'})\n",
    "# soup.find_all(\"td\", class_=\"title\")\n",
    "\n",
    "title_tag.get_text()\n",
    "# soup = BeautifulSoup(data, \"html.parser\")\n",
    "# nations = soup.find_all(\"td\", class_=\"col_id\")\n"
   ]
  }
 ],
 "metadata": {
  "interpreter": {
   "hash": "8b96398b062f62469a68c1bc469177be3490231bb531327e66b10e93d2aa0fda"
  },
  "kernelspec": {
   "display_name": "Python 3.7.9 64-bit",
   "language": "python",
   "name": "python3"
  },
  "language_info": {
   "codemirror_mode": {
    "name": "ipython",
    "version": 3
   },
   "file_extension": ".py",
   "mimetype": "text/x-python",
   "name": "python",
   "nbconvert_exporter": "python",
   "pygments_lexer": "ipython3",
   "version": "3.7.9"
  },
  "orig_nbformat": 4
 },
 "nbformat": 4,
 "nbformat_minor": 2
}
